{
 "cells": [
  {
   "cell_type": "code",
   "execution_count": 9,
   "metadata": {
    "collapsed": true
   },
   "outputs": [],
   "source": [
    "import numpy as np\n",
    "\n",
    "import pandas as pd\n",
    "\n",
    "import matplotlib.pyplot as plt\n",
    "\n",
    "from aide_design import physchem as pc\n",
    "\n",
    "from aide_design.units import unit_registry as u\n",
    "\n",
    "from aide_design import utility as ut\n",
    "\n",
    "from aide_design.play import*\n",
    "from aide_design import floc_model as floc\n",
    "from pytexit import py2tex\n",
    "\n",
    "import math\n",
    "\n",
    "from scipy import constants, interpolate\n",
    "\n",
    "#see numpy cheat sheet https://www.dataquest.io/blog/images/cheat-sheets/numpy-cheat-sheet.pdf\n",
    "#The numpy import is needed because it is renamed here as np.\n",
    "import numpy as np\n",
    "\n",
    "#Pandas is used to import data from spreadsheets\n",
    "import pandas as pd\n",
    " \n",
    "import matplotlib.pyplot as plt\n",
    "\n",
    "# sys and os give us access to operating system directory paths and to sys paths.\n",
    "import sys, os\n"
   ]
  },
  {
   "cell_type": "markdown",
   "metadata": {},
   "source": [
    "## Calculation of Flow Through the Sedimentation Tube"
   ]
  },
  {
   "cell_type": "code",
   "execution_count": 10,
   "metadata": {},
   "outputs": [
    {
     "name": "stdout",
     "output_type": "stream",
     "text": [
      "The flow through the sedimentation tube is 1.013 ml/s.\n"
     ]
    }
   ],
   "source": [
    "PipeArea = (np.pi*(0.0127**2))*(u.m**2)\n",
    "Upflow_Velocity = 0.002 *(u.m/u.s)\n",
    "SedTube_Flow = (PipeArea * Upflow_Velocity).to(u.mL/u.s)\n",
    "print('The flow through the sedimentation tube is ' +ut.sig(SedTube_Flow, 4)+ '.')"
   ]
  },
  {
   "cell_type": "markdown",
   "metadata": {},
   "source": [
    "## Required RPM for Water Pump to Achieve Required Volumetric Flow"
   ]
  },
  {
   "cell_type": "code",
   "execution_count": 11,
   "metadata": {},
   "outputs": [
    {
     "name": "stdout",
     "output_type": "stream",
     "text": [
      "The required RPMs for the water pump to achive a flow rate of 1.52 mL/s is 76.01 RPM.\n"
     ]
    }
   ],
   "source": [
    "WaterPump_rpm = ((SedTube_Flow/0.8)*(60*(u.s))).magnitude\n",
    "print('The required RPMs for the water pump to achive a flow rate of 1.52 mL/s is ' +ut.sig(WaterPump_rpm,4)+' RPM.')"
   ]
  },
  {
   "cell_type": "markdown",
   "metadata": {},
   "source": [
    "## Trial 1: 2.5mL of 70.9g/L PACI 5L of water"
   ]
  },
  {
   "cell_type": "code",
   "execution_count": 12,
   "metadata": {},
   "outputs": [
    {
     "name": "stdout",
     "output_type": "stream",
     "text": [
      "The concentration of coagulant throughout the system is 3.939 mg/l.\n"
     ]
    }
   ],
   "source": [
    "Flow_plant = 180*(u.mL/u.min)\n",
    "Q_coagulant = 5 * (u.mL/u.min)\n",
    "Coagulant_Concentration = 0.1418 * (u.g/u.L)\n",
    "Concentration_Plant = ((Q_coagulant * Coagulant_Concentration)/Flow_plant).to(u.mg/u.L)\n",
    "print('The concentration of coagulant throughout the system is ' +ut.sig(Concentration_Plant,4)+ '.')"
   ]
  },
  {
   "cell_type": "markdown",
   "metadata": {},
   "source": [
    "## Trial 2: 4 mL of 70.9g/L PACI, 1 L of water"
   ]
  },
  {
   "cell_type": "code",
   "execution_count": 13,
   "metadata": {},
   "outputs": [
    {
     "name": "stdout",
     "output_type": "stream",
     "text": [
      "The coagulant concentration throughout the system in this trial is 7.878 mg/l.\n"
     ]
    }
   ],
   "source": [
    "#15RPM for Coagulant Pump, 76 RPM Water\n",
    "Coag_Conc = 0.2836 * (u.g/u.L)\n",
    "Q_plant = 180 * (u.mL/u.min)\n",
    "Q_coag = 5 * (u.mL/u.min)\n",
    "C_plant= ((Q_coag*Coag_Conc)/Q_plant).to(u.mg/u.L)\n",
    "print('The coagulant concentration throughout the system in this trial is ' +ut.sig(C_plant,4)+ '.')"
   ]
  },
  {
   "cell_type": "code",
   "execution_count": 14,
   "metadata": {},
   "outputs": [
    {
     "name": "stdout",
     "output_type": "stream",
     "text": [
      "The flow rate at this pump speed is 5.96 ml per revolution\n",
      "The flow rate at this pump speed is 8.94 ml per revolution\n"
     ]
    }
   ],
   "source": [
    "YB_RPM_Conversion = 0.149\n",
    "MediumSpeed = 40\n",
    "HighSpeed = 60\n",
    "MediumFlow = (YB_RPM_Conversion * MediumSpeed)*(u.mL)\n",
    "HighFlow = (YB_RPM_Conversion * HighSpeed)*(u.mL)\n",
    "print('The flow rate at this pump speed is ' +ut.sig(MediumFlow,3)+' per revolution')\n",
    "print('The flow rate at this pump speed is ' +ut.sig(HighFlow,3)+' per revolution')"
   ]
  },
  {
   "cell_type": "markdown",
   "metadata": {
    "collapsed": true
   },
   "source": [
    "## Experiment Flow Rates"
   ]
  },
  {
   "cell_type": "code",
   "execution_count": 37,
   "metadata": {},
   "outputs": [
    {
     "name": "stdout",
     "output_type": "stream",
     "text": [
      "The flow of water into the system is 60.80 ml/min.\n",
      "The flow of coagulant into the system is 1.490 ml/min.\n",
      "The flow of clay solution into the system is 2.384 ml/min.\n",
      "The total flow rate through the system is 64.67 ml/min.\n"
     ]
    }
   ],
   "source": [
    "Sixteen_RPM_Conversion = 0.8 #mL/revolution\n",
    "WaterSpeed = 76 #revolutions per minute\n",
    "Q_Water = (WaterSpeed * Sixteen_RPM_Conversion)*(u.mL/u.min)\n",
    "print('The flow of water into the system is ' +ut.sig(Q_Water,4)+ '.')\n",
    "\n",
    "Coag_Speed = 10 #RPM \n",
    "Q_Stock = (YB_RPM_Conversion * Coag_Speed)*(u.mL/u.min)\n",
    "print('The flow of coagulant into the system is ' +ut.sig(Q_Stock,4)+ '.')\n",
    "\n",
    "Clay_Speed = 16 #Approximate pump speed - variable\n",
    "Q_Clay = (YB_RPM_Conversion * Clay_Speed)*(u.mL/u.min)\n",
    "print('The flow of clay solution into the system is ' +ut.sig(Q_Clay,4)+ '.')\n",
    "\n",
    "Plant_Flow = Q_Water + Q_Stock + Q_Clay\n",
    "print('The total flow rate through the system is ' +ut.sig(Plant_Flow,4)+ '.')"
   ]
  },
  {
   "cell_type": "markdown",
   "metadata": {},
   "source": [
    "## Current System Concentrations 11/20/17"
   ]
  },
  {
   "cell_type": "code",
   "execution_count": 38,
   "metadata": {},
   "outputs": [
    {
     "name": "stdout",
     "output_type": "stream",
     "text": [
      "The coagulant concentration throughout the system in this trial is 1.634 mg/l.\n"
     ]
    }
   ],
   "source": [
    "#15RPM for Coagulant Pump, 76 RPM Water\n",
    "StockCoag_Conc = (0.2836/4) * (u.g/u.L) #Coaglant flowing from stock\n",
    "TotalSystem_Flow = 64.67 * (u.mL/u.min) #Raw Water + Clay + Coagulant\n",
    "Q_coag = 1.49* (u.mL/u.min)\n",
    "C_plant= ((Q_coag*StockCoag_Conc)/TotalSystem_Flow).to(u.mg/u.L)\n",
    "print('The coagulant concentration throughout the system in this trial is ' +ut.sig(C_plant,4)+ '.')"
   ]
  },
  {
   "cell_type": "code",
   "execution_count": null,
   "metadata": {
    "collapsed": true
   },
   "outputs": [],
   "source": []
  }
 ],
 "metadata": {
  "kernelspec": {
   "display_name": "Python 3",
   "language": "python",
   "name": "python3"
  },
  "language_info": {
   "codemirror_mode": {
    "name": "ipython",
    "version": 3
   },
   "file_extension": ".py",
   "mimetype": "text/x-python",
   "name": "python",
   "nbconvert_exporter": "python",
   "pygments_lexer": "ipython3",
   "version": "3.6.1"
  }
 },
 "nbformat": 4,
 "nbformat_minor": 2
}
